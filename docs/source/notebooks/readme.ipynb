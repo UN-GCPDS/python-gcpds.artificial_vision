
{
 "cells": [
   {
   "cell_type": "markdown",
   "id": "0",
   "metadata": {},
   "source": [
    "# GCPDS - Artificial Vision"
   ]
  }
 ],
 "metadata": {},
 "nbformat": 4,
 "nbformat_minor": 5
}
